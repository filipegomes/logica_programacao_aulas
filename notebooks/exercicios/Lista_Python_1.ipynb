{
  "nbformat": 4,
  "nbformat_minor": 0,
  "metadata": {
    "colab": {
      "name": "Lista_Python_1.ipynb",
      "provenance": [],
      "authorship_tag": "ABX9TyMNrjHIroXT5+jcrgBrThuv",
      "include_colab_link": true
    },
    "kernelspec": {
      "name": "python3",
      "display_name": "Python 3"
    },
    "language_info": {
      "name": "python"
    }
  },
  "cells": [
    {
      "cell_type": "markdown",
      "metadata": {
        "id": "view-in-github",
        "colab_type": "text"
      },
      "source": [
        "<a href=\"https://colab.research.google.com/github/filipegomes/logica_programacao_aulas/blob/main/notebooks/exercicios/Lista_Python_1.ipynb\" target=\"_parent\"><img src=\"https://colab.research.google.com/assets/colab-badge.svg\" alt=\"Open In Colab\"/></a>"
      ]
    },
    {
      "cell_type": "markdown",
      "source": [
        "#1º Lista de Exercícios de Python\n",
        "\n",
        "Como deve ser enviada:\n",
        "\n",
        "\n",
        "*   O notebook precisa ser todo respondido e executado.\n",
        "*   O arquivo deve ser baixado em formato .ipynb\n",
        "*   Após isso deve ser enviado no grupo do Telegram com as seguintes características:\n",
        "> * Nome do Arquivo: **Lista_Python_1.ipynb**\n",
        "> * O seu **nome completo, sem abreviações** deve ser colocado como mensagem junto ao arquivo.\n",
        "> *  Após o nome colocar **#listapython1**\n",
        "\n",
        "Se essas regras não forem seguidas e o arquivo não for achado, o aluno não será pontuado.\n",
        "\n",
        "O prazo será informado em sala.\n",
        "\n"
      ],
      "metadata": {
        "id": "Fi7wHZJrbQLy"
      }
    },
    {
      "cell_type": "markdown",
      "source": [
        "1. Faça um Programa que mostre a mensagem \"Alô mundo!\" na tela."
      ],
      "metadata": {
        "id": "sfPJ0Pwhc2Kq"
      }
    },
    {
      "cell_type": "code",
      "execution_count": null,
      "metadata": {
        "id": "7AT5CdkvbFuv"
      },
      "outputs": [],
      "source": [
        ""
      ]
    },
    {
      "cell_type": "markdown",
      "source": [
        "2. Faça um Programa que peça um número e então mostre a mensagem `\"O número informado foi\n",
        "[número]”`."
      ],
      "metadata": {
        "id": "xX-vqgCZc8mH"
      }
    },
    {
      "cell_type": "code",
      "source": [
        ""
      ],
      "metadata": {
        "id": "RTUSW0fxejH9"
      },
      "execution_count": null,
      "outputs": []
    },
    {
      "cell_type": "markdown",
      "source": [
        "3. Faça um Programa que peça dois números e imprima a soma."
      ],
      "metadata": {
        "id": "tjakELh_eorn"
      }
    },
    {
      "cell_type": "code",
      "source": [
        ""
      ],
      "metadata": {
        "id": "DPc3zkKzerxq"
      },
      "execution_count": null,
      "outputs": []
    },
    {
      "cell_type": "markdown",
      "source": [
        "4. Faça um Programa que receba 4 notas e mostre a média."
      ],
      "metadata": {
        "id": "jCkUqwM5exNN"
      }
    },
    {
      "cell_type": "code",
      "source": [
        ""
      ],
      "metadata": {
        "id": "QaeH92wle4kc"
      },
      "execution_count": null,
      "outputs": []
    },
    {
      "cell_type": "markdown",
      "source": [
        "5. Faça um Programa que converta metros para centímetros."
      ],
      "metadata": {
        "id": "0BF4f7zde624"
      }
    },
    {
      "cell_type": "code",
      "source": [
        ""
      ],
      "metadata": {
        "id": "HosiHPERe7tD"
      },
      "execution_count": null,
      "outputs": []
    },
    {
      "cell_type": "markdown",
      "source": [
        "6. Faça um Programa que peça o raio de um círculo, calcule e mostre sua área. Fórmula: `A = π * r²`"
      ],
      "metadata": {
        "id": "X38fLrLgfCZl"
      }
    },
    {
      "cell_type": "code",
      "source": [
        ""
      ],
      "metadata": {
        "id": "Egxp2Mj3fDMB"
      },
      "execution_count": null,
      "outputs": []
    },
    {
      "cell_type": "markdown",
      "source": [
        "7. Faça um Programa que calcule a área de um quadrado, em seguida mostre o dobro desta\n",
        "área para o usuário."
      ],
      "metadata": {
        "id": "ORy3P4L8fzyD"
      }
    },
    {
      "cell_type": "code",
      "source": [
        ""
      ],
      "metadata": {
        "id": "j0c7Un9lf3sz"
      },
      "execution_count": null,
      "outputs": []
    },
    {
      "cell_type": "markdown",
      "source": [
        "8. Faça um Programa que calcule a área de um retângulo, em seguida mostre o dobro desta\n",
        "área para o usuário."
      ],
      "metadata": {
        "id": "EwOwdb25f6Wn"
      }
    },
    {
      "cell_type": "code",
      "source": [
        ""
      ],
      "metadata": {
        "id": "UaEEhyV9f7-o"
      },
      "execution_count": null,
      "outputs": []
    },
    {
      "cell_type": "markdown",
      "source": [
        "9. Faça um Programa que pergunte quanto você ganha por hora e o número de horas\n",
        "trabalhadas no mês. Calcule e mostre o total do seu salário no referido mês."
      ],
      "metadata": {
        "id": "uJhKPDEWf_Ig"
      }
    },
    {
      "cell_type": "code",
      "source": [
        ""
      ],
      "metadata": {
        "id": "H5jOskbugAUe"
      },
      "execution_count": null,
      "outputs": []
    },
    {
      "cell_type": "markdown",
      "source": [
        "10. Faça um programa que receba uma lista com NOME, IDADE e ESCOLARIDADE. Após isso, imprima cada um dos itens da lista em um Print diferente utilizando o seu índice na lista."
      ],
      "metadata": {
        "id": "FJpmBMP3gOIf"
      }
    },
    {
      "cell_type": "code",
      "source": [
        ""
      ],
      "metadata": {
        "id": "pu6yPtM9geMw"
      },
      "execution_count": null,
      "outputs": []
    }
  ]
}