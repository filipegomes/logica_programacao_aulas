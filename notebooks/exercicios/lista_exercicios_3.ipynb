{
  "nbformat": 4,
  "nbformat_minor": 0,
  "metadata": {
    "colab": {
      "name": "lista_exercicios_3.ipynb",
      "provenance": [],
      "authorship_tag": "ABX9TyP/zt8/SmX9t+4yHLOKVr27",
      "include_colab_link": true
    },
    "kernelspec": {
      "name": "python3",
      "display_name": "Python 3"
    },
    "language_info": {
      "name": "python"
    }
  },
  "cells": [
    {
      "cell_type": "markdown",
      "metadata": {
        "id": "view-in-github",
        "colab_type": "text"
      },
      "source": [
        "<a href=\"https://colab.research.google.com/github/filipegomes/logica_programacao_aulas/blob/main/notebooks/exercicios/lista_exercicios_3.ipynb\" target=\"_parent\"><img src=\"https://colab.research.google.com/assets/colab-badge.svg\" alt=\"Open In Colab\"/></a>"
      ]
    },
    {
      "cell_type": "markdown",
      "source": [
        "# Lista de Exercícios 3: Laços de Repetição **While** e **For**\n",
        "\n",
        "\n",
        "---\n",
        "\n",
        "###Instruções para entrega:\n",
        "\n",
        "1. O notebook precisa ser todo respondido e executado.\n",
        "2. O arquivo deve ser baixado em formato .ipynb\n",
        "3. Após isso deve ser enviado no grupo do Telegram com as seguintes características:\n",
        "\n",
        "  * Nome do Arquivo: \n",
        "  \n",
        "    lista_exercicios_3.ipynb\n",
        "\n",
        "  * O seu nome completo, sem abreviações deve ser colocado como mensagem junto ao arquivo.\n",
        "  * Após o nome colocar **#listapython3**\n",
        "\n",
        "Se essas regras não forem seguidas e o arquivo não for achado, o aluno não será pontuado."
      ],
      "metadata": {
        "id": "wTIQb22q8w5o"
      }
    },
    {
      "cell_type": "markdown",
      "source": [
        "1. Usando a estrutura While, peça ao usuário um nome. Enquanto esse nome for diferente a um nome específico (definido por vocês), continue pedindo ao usuário um nome até que ele escreva o correto."
      ],
      "metadata": {
        "id": "PEHwY24B-zSx"
      }
    },
    {
      "cell_type": "code",
      "execution_count": null,
      "metadata": {
        "id": "O54k8KZX8wGT"
      },
      "outputs": [],
      "source": [
        ""
      ]
    },
    {
      "cell_type": "markdown",
      "source": [
        "2. Usando a estrutura While, solicite ao usuário um nome. Enquanto o nome solicitado não for um nome específico dentro de uma lista de 5 nomes, continue solicitando que ele escreva um nome. Vocês devem definir a lista de nomes."
      ],
      "metadata": {
        "id": "5MwazHja_gGl"
      }
    },
    {
      "cell_type": "code",
      "source": [
        ""
      ],
      "metadata": {
        "id": "7vbB6bSZ_u7l"
      },
      "execution_count": null,
      "outputs": []
    },
    {
      "cell_type": "markdown",
      "source": [
        "3. Faça uma contagem regressiva de 20 até 0 usando While."
      ],
      "metadata": {
        "id": "tnW340lC_vfo"
      }
    },
    {
      "cell_type": "code",
      "source": [
        ""
      ],
      "metadata": {
        "id": "qsOtzV4o_6Wf"
      },
      "execution_count": null,
      "outputs": []
    },
    {
      "cell_type": "markdown",
      "source": [
        "4. Faça uma contagem progressiva de 0 até 20 usando While."
      ],
      "metadata": {
        "id": "uOelHwyVBCeg"
      }
    },
    {
      "cell_type": "code",
      "source": [
        ""
      ],
      "metadata": {
        "id": "rLLNQtpPBHZZ"
      },
      "execution_count": null,
      "outputs": []
    },
    {
      "cell_type": "markdown",
      "source": [
        "5. Faça uma contagem regressiva de 20 até 0 usando For."
      ],
      "metadata": {
        "id": "6uYOwUl_BIkH"
      }
    },
    {
      "cell_type": "code",
      "source": [
        ""
      ],
      "metadata": {
        "id": "trxcBukXBNxH"
      },
      "execution_count": null,
      "outputs": []
    },
    {
      "cell_type": "markdown",
      "source": [
        "6. Faça uma contagem progressiva de 0 até 20 usando For."
      ],
      "metadata": {
        "id": "lToZhAhcBPxS"
      }
    },
    {
      "cell_type": "code",
      "source": [
        ""
      ],
      "metadata": {
        "id": "bPljI2WfBS0K"
      },
      "execution_count": null,
      "outputs": []
    },
    {
      "cell_type": "markdown",
      "source": [
        "7. Faça um programa usando For que imprima todos os valores da seguinte lista: `[\"Filipe\", \"José\", \"Carlos\", \"Eric\", \"Yuri\", \"João\"]`. Escreva a mensagem para cada nome: `\"Olá, {nome}! Seja bem vindo!\"`.\n"
      ],
      "metadata": {
        "id": "POPFZp1GBs-6"
      }
    },
    {
      "cell_type": "code",
      "source": [
        ""
      ],
      "metadata": {
        "id": "MG39__dPCEfp"
      },
      "execution_count": null,
      "outputs": []
    },
    {
      "cell_type": "markdown",
      "source": [
        "8. Faça um programa que calcule um número determinado por você por expoentes de 0 até 10. Por exemplo, se o número for 2, calcular 2⁰, depois 2¹, depois 2²..."
      ],
      "metadata": {
        "id": "H9xNHzDfCTVa"
      }
    },
    {
      "cell_type": "code",
      "source": [
        ""
      ],
      "metadata": {
        "id": "KfhhDfA2CrHw"
      },
      "execution_count": null,
      "outputs": []
    }
  ]
}