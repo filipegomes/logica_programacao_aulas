{
  "nbformat": 4,
  "nbformat_minor": 0,
  "metadata": {
    "colab": {
      "name": "Notebook-2_logica-programacao-Python.ipynb",
      "provenance": [],
      "collapsed_sections": [
        "vlWMatfYHHrj"
      ],
      "authorship_tag": "ABX9TyP0VzTtJhBurNjt3xGqdpGn",
      "include_colab_link": true
    },
    "kernelspec": {
      "name": "python3",
      "display_name": "Python 3"
    },
    "language_info": {
      "name": "python"
    }
  },
  "cells": [
    {
      "cell_type": "markdown",
      "metadata": {
        "id": "view-in-github",
        "colab_type": "text"
      },
      "source": [
        "<a href=\"https://colab.research.google.com/github/filipegomes/logica_programacao_aulas/blob/main/notebooks/Notebook_2_logica_programacao_Python.ipynb\" target=\"_parent\"><img src=\"https://colab.research.google.com/assets/colab-badge.svg\" alt=\"Open In Colab\"/></a>"
      ]
    },
    {
      "cell_type": "markdown",
      "metadata": {
        "id": "Dz9jjZkF2HQU"
      },
      "source": [
        "# Aula 2: Introdução à Linguagem de Programação **Python**\n",
        "\n",
        "\n",
        "---\n",
        "\n",
        "###Bem vindo ao Google Colaboratory novamente!\n",
        "\n",
        "Assim como na aula 1, utilizaremos esse notebook para ver na prática como o Python implementa suas funções e expressões.\n",
        "\n",
        "\n"
      ]
    },
    {
      "cell_type": "markdown",
      "metadata": {
        "id": "fz7ZkbKV8G-J"
      },
      "source": [
        "Na última aula começamos a trabalhar com **Coleções** em Python. Lembramos que as estas podem ser tipos de variáveis, mas são, em sua essência, estruturas de dados mais complexas. \n",
        "\n",
        "Já vimos operações básicas com Listas e vimos como Tuplas funcionam basicamente da mesma forma. \n",
        "\n",
        "Hoje iremos ver como implementar Sets e Dicionários de forma mais superficial e trabalhar com funções **\"built-in\"** ou **embutidas** de Listas."
      ]
    },
    {
      "cell_type": "markdown",
      "metadata": {
        "id": "svwx0buEnZPJ"
      },
      "source": [
        "* Você sabe como receber valores do teclado do usuário? \n",
        "\n",
        "Em python é bem simples. Utilizamos a função `input()` para isso. O input precisa ser atribuído à uma variável.\n",
        "\n",
        "Exemplo: \n",
        "\n",
        "`valor = input(\"Escreva algo no teclado!\")`\n",
        "\n",
        "Observe que o texto que aparecerá antes do usuário dar alguma entrada precisa estar entre aspas, dentro dos parênteses.\n",
        "\n"
      ]
    },
    {
      "cell_type": "code",
      "metadata": {
        "id": "4X5aGWRHG6GQ"
      },
      "source": [
        ""
      ],
      "execution_count": null,
      "outputs": []
    },
    {
      "cell_type": "markdown",
      "metadata": {
        "id": "Pia7kLgl4idm"
      },
      "source": [
        "IMPORTANTE! Se precisarmos de uma entrada de teclado em um outro formato que não seja `string`, precisamos converter o valor para o tipo que iremos utilizar. Para isso, basta utilizar os construtores que já conhecemos: `int()`, `float()`, `bool()`...\n",
        "\n",
        "Exemplo:\n",
        "\n",
        "```\n",
        "x = float(input(\"Escreva um valor para usarmos como Float! \\n\"))\n",
        "\n",
        "print(f\"O valor {x} agora é do tipo {type(x)}\")\n",
        "```\n",
        "\n"
      ]
    },
    {
      "cell_type": "code",
      "metadata": {
        "id": "liGIv-IA5WPC"
      },
      "source": [
        ""
      ],
      "execution_count": null,
      "outputs": []
    },
    {
      "cell_type": "markdown",
      "metadata": {
        "id": "4Dm9ps696bRj"
      },
      "source": [
        "Abaixo, os exemplos de `print` que já abordamos.\n",
        "\n",
        "\n",
        "1. `print(\"Ola \"+nome)`\n",
        ">Esse tipo de impressão só pode ser utilizada quando a variável é do tipo String, pois realiza uma concatenação.\n",
        "\n",
        "2. `print(\"Ola {}\".format(nome))`\n",
        "\n",
        "3. `print(\"Ola\",nome)`\n",
        "\n",
        "4. `print(\"Ola %s\" % (nome))`\n",
        "\n",
        "5. `print(f\"Ola {nome}\")`\n",
        ">Vamos utilizar esse formato com mais frequência.\n",
        "\n",
        "Na célula abaixo, exemplos de aplicação dos tipos de `print` acima.\n",
        "\n",
        "\n",
        "\n",
        "\n",
        "\n",
        "\n",
        "\n",
        "\n",
        "\n",
        "\n",
        "\n"
      ]
    },
    {
      "cell_type": "code",
      "metadata": {
        "id": "wKgG1RJPArIm"
      },
      "source": [
        "nome = \"Filipe\"\n",
        "nome1 = 1\n",
        "#print(\"Ola \"+nome+\",tudo bem?\"+nome1)\n",
        "print(\"Ola {}\".format(nome))\n",
        "print(\"Ola\",nome)\n",
        "print(\"Ola %s\" % (nome))\n",
        "print(f\"Ola {nome}, tudo bem? {nome1}\")"
      ],
      "execution_count": null,
      "outputs": []
    },
    {
      "cell_type": "markdown",
      "metadata": {
        "id": "IdDwuDU9ZEcG"
      },
      "source": [
        "## Coleções em Python\n",
        "\n",
        "Os tipos não-primitivos, aos quais nos referiremos como **Coleções**, são estruturas de dados mais complexas e com muitas características. Em Python temos: **Listas** (`list`), **Tuplas** (`tuple`), **Dicionários** (`dict`) e **Conjuntos** (`set`)."
      ]
    },
    {
      "cell_type": "markdown",
      "metadata": {
        "id": "EoJDvuMyxAc1"
      },
      "source": [
        "#### DICIONÁRIOS (dict)"
      ]
    },
    {
      "cell_type": "markdown",
      "metadata": {
        "id": "CGK47CTWxHp5"
      },
      "source": [
        "Como declarar um **Dicionário**?\n",
        "\n",
        "Dicionários possuem itens, que são pares entre chaves (*keys*) e valores (*values*). Um item é um par `chave:valor`.\n",
        "\n",
        "```\n",
        "dicionario = {\n",
        "  \"chave_1\":\"valor_1\",\n",
        "  \"chave_2\":\"valor_2\",\n",
        "  \"chave_3\":\"valor_3\"\n",
        "}\n",
        "```\n",
        "\n"
      ]
    },
    {
      "cell_type": "code",
      "metadata": {
        "id": "SANxcSN8xHp6"
      },
      "source": [
        "dicionario = {\n",
        "\n",
        "}\n",
        "\n",
        "print(dicionario[])\n",
        "print(dicionario)"
      ],
      "execution_count": null,
      "outputs": []
    },
    {
      "cell_type": "markdown",
      "metadata": {
        "id": "nARuqCR1xHp9"
      },
      "source": [
        "Quais itens posso colocar num Dicionário?\n",
        "\n",
        "Aqui precisamos ter um pouco de atenção. Dicionários em Python são mapas, estruturas otimizadas com técnicas de hash mapping. Então, nos valores, podemos usar qualquer tipo, sem muita preocupação. Porém nas chaves devemos utilizar valores simples, passíveis de serem utilizados como um \"mapeador\" para a estrutura. Além disso, **chaves não podem ter duplicatas**!\n",
        "\n",
        "Já para os valores, o céu é o limite! Podemos ter qualquer tipo e até outras estruturas, como listas e tuplas. Se você quiser, pode até colocar outro dicionário como valor de uma chave."
      ]
    },
    {
      "cell_type": "code",
      "metadata": {
        "id": "Brp-SBoxxHp8"
      },
      "source": [
        ""
      ],
      "execution_count": null,
      "outputs": []
    },
    {
      "cell_type": "markdown",
      "metadata": {
        "id": "N9l0RmqOxHp8"
      },
      "source": [
        "Em dicionários, utilizamos as chaves como índices para acessarmos valores:\n",
        "\n",
        "\n",
        "\n",
        "```\n",
        "dicionario = {\n",
        "  \"chave_1\":\"valor_1\",\n",
        "  \"chave_2\":\"valor_2\",\n",
        "  \"chave_3\":\"valor_3\"\n",
        "}\n",
        "\n",
        "print(dicionario[\"chave_1\"])\n",
        "```\n",
        "\n"
      ]
    },
    {
      "cell_type": "code",
      "metadata": {
        "id": "xNM0Hv9iL7mT"
      },
      "source": [
        "dicionario = {\n",
        "  \"chave_1\":\"valor_1\",\n",
        "  \"chave_2\":\"valor_2\",\n",
        "  \"chave_3\":\"valor_3\"\n",
        "}\n",
        " \n",
        "print(dicionario[\"chave_10\"])"
      ],
      "execution_count": null,
      "outputs": []
    },
    {
      "cell_type": "markdown",
      "metadata": {
        "id": "jsoD4lcxMiOK"
      },
      "source": [
        "Outra forma, já utilizando os famosos **\"built-in methods\"** , seria utilizar o método `get()` para fazermos a mesma coisa:\n",
        "\n",
        "\n",
        "\n",
        "```\n",
        "dicionario = {\n",
        "  \"chave_1\":\"valor_1\",\n",
        "  \"chave_2\":\"valor_2\",\n",
        "  \"chave_3\":\"valor_3\"\n",
        "}\n",
        " \n",
        "print(dicionario.get(\"chave_1\"))\n",
        "```\n",
        "\n"
      ]
    },
    {
      "cell_type": "code",
      "metadata": {
        "id": "gW0EcfGCxHp-"
      },
      "source": [
        "dicionario = {\n",
        "  \"chave_1\":\"valor_1\",\n",
        "  \"chave_2\":\"valor_2\",\n",
        "  \"chave_3\":\"valor_3\"\n",
        "}\n",
        " \n",
        "print(dicionario.get(\"chave_10\"))"
      ],
      "execution_count": null,
      "outputs": []
    },
    {
      "cell_type": "markdown",
      "metadata": {
        "id": "l5rGrSy0OwDf"
      },
      "source": [
        "E qual a diferença entre usar get(índice) ou [índice]? Bem, aí a coisa fica mais pythonica: utilizando o get, nós já temos implementado o tratamento de erros, caso a chave solicitada não esteja no dicionário!"
      ]
    },
    {
      "cell_type": "code",
      "metadata": {
        "id": "8rNBa34BPEAq"
      },
      "source": [
        ""
      ],
      "execution_count": null,
      "outputs": []
    },
    {
      "cell_type": "markdown",
      "metadata": {
        "id": "K0oqKm3QySzX"
      },
      "source": [
        "Qual a forma mais simples de adicionar itens em um dicionário? Basta utilizar a nova chave como índice e atribuir um valor:\n",
        "\n",
        "`dicionario[\"nova_chave\"] = \"novo_valor\"`"
      ]
    },
    {
      "cell_type": "code",
      "metadata": {
        "id": "wvRYwvv2ySDS"
      },
      "source": [
        "dicionario = {\n",
        "  \"chave_1\":\"valor_1\",\n",
        "  \"chave_2\":\"valor_2\",\n",
        "  \"chave_3\":\"valor_3\"\n",
        "}\n",
        "print(dicionario)\n",
        "#escreva aqui\n",
        "print(dicionario)"
      ],
      "execution_count": null,
      "outputs": []
    },
    {
      "cell_type": "markdown",
      "metadata": {
        "id": "ScT5MV7FybhT"
      },
      "source": [
        "Para alterarmos valores de chaves, basta utilizar a mesma lógica: chamar a chave e atribuir um novo valor."
      ]
    },
    {
      "cell_type": "code",
      "metadata": {
        "id": "nH2YqWJYyXYy"
      },
      "source": [
        "print(dicionario)\n",
        "#escreva aqui\n",
        "print(dicionario)"
      ],
      "execution_count": null,
      "outputs": []
    },
    {
      "cell_type": "markdown",
      "metadata": {
        "id": "oqBkrdXVpP_G"
      },
      "source": [
        "#### Algumas funções Avançadas de **LISTAS**:"
      ]
    },
    {
      "cell_type": "markdown",
      "metadata": {
        "id": "7juTORFIp6pe"
      },
      "source": [
        "##### Insert, Append e Extend:\n",
        "\n",
        "Adicionando valores à uma Lista.\n",
        "\n",
        "1. Com o `insert()`, nós podemos adicionar um novo item a uma lista especificando a posição onde ficará de acordo com o índice. \n",
        "\n",
        "\n",
        "```\n",
        "lista = [1,2,3,4]\n",
        "lista.insert(2, \"banana\")\n",
        "\n",
        "```\n",
        "\n",
        "\n",
        "\n"
      ]
    },
    {
      "cell_type": "code",
      "metadata": {
        "id": "uK89c7tNqhlC"
      },
      "source": [
        ""
      ],
      "execution_count": null,
      "outputs": []
    },
    {
      "cell_type": "markdown",
      "metadata": {
        "id": "E6Fqi4jVq33W"
      },
      "source": [
        "2. Já a função `append()` adiciona novos valores ao final da lista, sem a necessidade de especificar posições.\n",
        "\n",
        "\n",
        "\n",
        "```\n",
        "lista = [1,2,3,4]\n",
        "lista.append(\"banana\")\n",
        "```\n",
        "\n"
      ]
    },
    {
      "cell_type": "code",
      "metadata": {
        "id": "9vR4fjP2rQwa"
      },
      "source": [
        ""
      ],
      "execution_count": null,
      "outputs": []
    },
    {
      "cell_type": "markdown",
      "metadata": {
        "id": "9b4xHN_Brani"
      },
      "source": [
        "3. A função `extend()` é uma forma eficiente de adicionar listas, tuplas ou outros iteráveis à uma lista já existente.\n",
        "\n",
        "\n",
        "\n",
        "```\n",
        "lista_1 = [1,2,3,4]\n",
        "lista_2 = [\"a\",\"b\",\"c\",\"d\"]\n",
        "\n",
        "lista_1.extend(lista_2)\n",
        "\n",
        "```\n",
        "\n"
      ]
    },
    {
      "cell_type": "code",
      "metadata": {
        "id": "gLzDrHbCsuJJ"
      },
      "source": [
        ""
      ],
      "execution_count": null,
      "outputs": []
    },
    {
      "cell_type": "markdown",
      "metadata": {
        "id": "HXp9rM-rstos"
      },
      "source": [
        "##### Remove, Pop, Clear\n",
        "\n",
        "Essas funções removem ou limpam itens ou listas inteiras.\n",
        "\n",
        "1. A função `remove()` remove um item específico, ou seja, dentro dos parênteses dizemos exatamente qual item precisa ser excluído.\n",
        "\n",
        "```\n",
        "lista = [\"a\",\"b\",\"c\",\"d\"]\n",
        "lista.remove(\"b\")\n",
        "\n",
        "```"
      ]
    },
    {
      "cell_type": "code",
      "metadata": {
        "id": "ALXwgqQ1sWHs"
      },
      "source": [
        ""
      ],
      "execution_count": null,
      "outputs": []
    },
    {
      "cell_type": "markdown",
      "metadata": {
        "id": "xe0liexPwYCo"
      },
      "source": [
        "2. A função `pop()` também remove um item específico, mas utiliza sua posição através do indexamento para \"direcionar\" a remoção. Se nenhum índice for colocado entre parênteses, por padrão, o `pop()` removerá o último item da lista.\n",
        "\n",
        "```\n",
        "lista = [\"a\",\"b\",\"c\",\"d\"]\n",
        "lista.pop(2)\n",
        "\n",
        "```"
      ]
    },
    {
      "cell_type": "code",
      "metadata": {
        "id": "NZWbuATKxGIb"
      },
      "source": [
        ""
      ],
      "execution_count": null,
      "outputs": []
    },
    {
      "cell_type": "markdown",
      "metadata": {
        "id": "TC3GGGtiyG6b"
      },
      "source": [
        "3. A função `clear()` simplesmente limpa a lista.\n",
        "\n",
        "```\n",
        "lista = [\"a\",\"b\",\"c\",\"d\"]\n",
        "lista.clear()\n",
        "```"
      ]
    },
    {
      "cell_type": "code",
      "metadata": {
        "id": "DlV6jNVPyhTC"
      },
      "source": [
        ""
      ],
      "execution_count": null,
      "outputs": []
    },
    {
      "cell_type": "markdown",
      "metadata": {
        "id": "mkcsO_QtzU_p"
      },
      "source": [
        "##### Sort e Reverse\n",
        "\n",
        "A função `sort()` organiza uma lista alfanumericamente, ou seja, se forem palavras/letras, alfabeticamente, se forem números, de forma crescente (por padrão), ou decrescente.\n",
        "\n",
        "* CUIDADO 1: se houverem iniciais maiúsculas em strings o `sort` irá organizá-las primeiro, e após finalizar, fará o mesmo com as minúsculas. \n",
        "\n",
        "* CUIDADO 2: a função `sort` só funcionará em listas homogêneas, ou seja, se existirem strings e floats/inteiros na mesma lista, ela não funcionará. Se houverem números em formato string, a organização será: números primeiro, letras depois.\n",
        "\n",
        "\n",
        "\n",
        "```\n",
        "lista = [\"laranja\", \"manga\", \"graviola\", \"abacaxi\", \"banana\"]\n",
        "lista.sort() #alfabeticamente\n",
        "lista.sort(reverse = True) #alfabeticamente inverso\n",
        "```\n",
        "\n",
        "\n",
        "\n"
      ]
    },
    {
      "cell_type": "code",
      "metadata": {
        "id": "vCRjRcIDz8UW"
      },
      "source": [
        ""
      ],
      "execution_count": null,
      "outputs": []
    },
    {
      "cell_type": "markdown",
      "metadata": {
        "id": "7hoVfMy01xGL"
      },
      "source": [
        "\n",
        "Com números:\n",
        "\n",
        "```\n",
        "lista = [100, 50, 65, 82, 23]\n",
        "lista.sort() #crescente\n",
        "lista.sort(reverse = True) #decrescente\n",
        "```"
      ]
    },
    {
      "cell_type": "code",
      "metadata": {
        "id": "Vvqopcw1184E"
      },
      "source": [
        ""
      ],
      "execution_count": null,
      "outputs": []
    },
    {
      "cell_type": "markdown",
      "metadata": {
        "id": "Ch_uEdoMMQBU"
      },
      "source": [
        "## Estruturas Condicionais\n"
      ]
    },
    {
      "cell_type": "markdown",
      "metadata": {
        "id": "2HcMGXU7Xk_w"
      },
      "source": [
        "#### Operadores Lógicos e Relacionais:\n",
        "Aqui está a tabela para ajudá-los com a referência dos operadores lógicos.\n",
        "<img width= \"\" src = 'https://raw.githubusercontent.com/filipegomes/logica_programacao_aulas/aaf13241fd3af424883769a2e25d4d20fb5a4759/images/logicos.png'> "
      ]
    },
    {
      "cell_type": "markdown",
      "metadata": {
        "id": "1BsF785qbfRX"
      },
      "source": [
        "Todas as vezes que eu utilizar um operador condicional (com exceção de `and`, `or`, `not`, e `in`) eu terei uma resposta booleana, `True` ou `False`."
      ]
    },
    {
      "cell_type": "code",
      "metadata": {
        "id": "NJn9zsFObe_3"
      },
      "source": [
        ""
      ],
      "execution_count": null,
      "outputs": []
    },
    {
      "cell_type": "markdown",
      "metadata": {
        "id": "qj0LybZMcfIT"
      },
      "source": [
        "#### Estrutura Condicional `If`:\n",
        "\n",
        "Essa é a estrutura de seleção que utilizamos em Python. "
      ]
    },
    {
      "cell_type": "markdown",
      "metadata": {
        "id": "PlohdZLUc1Bo"
      },
      "source": [
        "Utilizando apenas o `If`:\n"
      ]
    },
    {
      "cell_type": "code",
      "metadata": {
        "id": "bIMfNBbc8n0X"
      },
      "source": [
        ""
      ],
      "execution_count": null,
      "outputs": []
    },
    {
      "cell_type": "markdown",
      "metadata": {
        "id": "oPCJbedTc6O6"
      },
      "source": [
        "Utilizando o `ELSE`:"
      ]
    },
    {
      "cell_type": "code",
      "metadata": {
        "id": "upW5D0CY9zfz"
      },
      "source": [
        ""
      ],
      "execution_count": null,
      "outputs": []
    },
    {
      "cell_type": "markdown",
      "metadata": {
        "id": "GtHl4yPN8GST"
      },
      "source": [
        "Dentro de um If, podemos colocar mais de uma condição, com o `and` e `or`, quando quisermos que duas ou mais condições sejam testadas na mesma expressão.\n",
        "\n",
        "Exemplo 1: Como podemos saber se um valor é maior 10 **E** Ímpar?\n",
        "\n",
        "Exemplo 2: E se eu apenas quiser saber se ele é maior que 10 **OU** Ímpar?"
      ]
    },
    {
      "cell_type": "code",
      "metadata": {
        "id": "u-hv0QZx8x9h"
      },
      "source": [
        ""
      ],
      "execution_count": null,
      "outputs": []
    },
    {
      "cell_type": "code",
      "metadata": {
        "id": "tyxQzdlXYze1"
      },
      "source": [
        ""
      ],
      "execution_count": null,
      "outputs": []
    },
    {
      "cell_type": "markdown",
      "metadata": {
        "id": "Gvwo42ffdAd1"
      },
      "source": [
        "Utilizando o `ELIF`:"
      ]
    },
    {
      "cell_type": "code",
      "metadata": {
        "id": "YPEg8_YdY1y0"
      },
      "source": [
        ""
      ],
      "execution_count": null,
      "outputs": []
    },
    {
      "cell_type": "markdown",
      "metadata": {
        "id": "mUKYo9aUeyt_"
      },
      "source": [
        "Vamos fazer alguns exercícios bem fáceis:\n",
        "\n",
        "1. Faça um Programa que peça dois números e imprima o maior deles.\n"
      ]
    },
    {
      "cell_type": "code",
      "metadata": {
        "id": "JFNlm78Oe93Q"
      },
      "source": [
        ""
      ],
      "execution_count": null,
      "outputs": []
    },
    {
      "cell_type": "markdown",
      "metadata": {
        "id": "X-l2CnXYe-Uy"
      },
      "source": [
        "2. Faça um Programa que peça um valor e mostre na tela se o valor é positivo ou negativo."
      ]
    },
    {
      "cell_type": "code",
      "metadata": {
        "id": "VUfsFDGI4VQ3"
      },
      "source": [
        ""
      ],
      "execution_count": null,
      "outputs": []
    },
    {
      "cell_type": "markdown",
      "metadata": {
        "id": "gE4wBl8BfDGk"
      },
      "source": [
        "3. Faça o que se pede:\n",
        "\n",
        "* Crie uma lista com 5 nomes:  Carlos, Mateus,\n",
        "Tiago, Eric e Paulo.\n",
        "* Peça um nome ao usuário via teclado. \n",
        "* Verifique se o nome existe na lista. \n",
        "* Se o nome existir na lista, escreva `Hello, <nome>!`, sendo `<nome>` o valor encontrado na lista.\n",
        "* Se o nome não exister, escreva `Eu nao conheço nenhum <nome>!`, sendo `<nome>` o valor não encotrado.\n",
        "\n"
      ]
    },
    {
      "cell_type": "code",
      "metadata": {
        "id": "HPn69v3rfCwh"
      },
      "source": [
        ""
      ],
      "execution_count": null,
      "outputs": []
    },
    {
      "cell_type": "markdown",
      "metadata": {
        "id": "KkAEQASNDEif"
      },
      "source": [
        "##### Expressões Condicionais ou Operadores Ternários\n",
        "\n",
        "São expressões de apenas uma linha, que conseguem conter uma estrutura condicional. "
      ]
    },
    {
      "cell_type": "markdown",
      "metadata": {
        "id": "RjmAMMXzEx1k"
      },
      "source": [
        "1. Com apenas um `if`:\n",
        "\n",
        "`if [condição] : [executar_se_verdade] `"
      ]
    },
    {
      "cell_type": "code",
      "metadata": {
        "id": "MTrpPgimEGdC"
      },
      "source": [
        "if 5 < 10: print(\"verdade\")"
      ],
      "execution_count": null,
      "outputs": []
    },
    {
      "cell_type": "markdown",
      "metadata": {
        "id": "KGhHk--HFI4v"
      },
      "source": [
        "2. Com `if` e `else`:\n",
        "\n",
        "`[executar_se_verdade] if [condição] else [executar_se_falso]`"
      ]
    },
    {
      "cell_type": "code",
      "metadata": {
        "id": "0Zt50TX9ELWN"
      },
      "source": [
        "print(\"verdade\") if 5 > 10 else print(\"falso\")"
      ],
      "execution_count": null,
      "outputs": []
    },
    {
      "cell_type": "markdown",
      "metadata": {
        "id": "vlWMatfYHHrj"
      },
      "source": [
        "# Exercícios"
      ]
    },
    {
      "cell_type": "markdown",
      "metadata": {
        "id": "B466gJIJIo68"
      },
      "source": [
        "1. Nós vimos anteriormente que uma string é essencialmente um vetor de caracteres. Portanto, é um iterável. Faça um programa que:\n",
        "* Receba um nome do teclado;\n",
        "* Verifique se existe o caractere `\"p\"` na string;\n",
        "* Se existir, printar que existe, se não existir, printar que não existe."
      ]
    },
    {
      "cell_type": "code",
      "metadata": {
        "id": "62StOS9QFjvC"
      },
      "source": [
        ""
      ],
      "execution_count": null,
      "outputs": []
    },
    {
      "cell_type": "markdown",
      "metadata": {
        "id": "XtOEuCc1KElU"
      },
      "source": [
        "2. Reescreva o programa anterior da seguinte forma:\n",
        "* Receba um nome do teclado;\n",
        "* Verifique se existe o caractere `\"p\"`;\n",
        "* Também verifique, caso a condição anterior seja falso, se existe a letra `\"e\"`;\n",
        "* Printar a condição que for verdade. Se nenhuma for verdade, printar que não foram verdade."
      ]
    },
    {
      "cell_type": "code",
      "metadata": {
        "id": "GzZKH9AuJshV"
      },
      "source": [
        ""
      ],
      "execution_count": null,
      "outputs": []
    },
    {
      "cell_type": "markdown",
      "metadata": {
        "id": "J3arm9IVQLNo"
      },
      "source": [
        "3. Escreva um programa que imprima a lista abaixo de forma crescente e de forma decrescente:\n",
        "\n",
        "`lista = [10, 34, 87, 1, 9, 65, 13]`"
      ]
    },
    {
      "cell_type": "code",
      "metadata": {
        "id": "m115oVZTQss9"
      },
      "source": [
        ""
      ],
      "execution_count": null,
      "outputs": []
    },
    {
      "cell_type": "markdown",
      "metadata": {
        "id": "XoYPFPmVQr1g"
      },
      "source": [
        "4. Organize a seguinte lista de forma alfabética e depois de forma alfabética reversa:\n",
        "\n",
        "`lista = [\"abacaxi\",\"3\",\"zebra\",\"escola\",\"0\",\"brasil\"]`"
      ]
    },
    {
      "cell_type": "code",
      "metadata": {
        "id": "9dZ0FwGLR0N6"
      },
      "source": [
        ""
      ],
      "execution_count": null,
      "outputs": []
    },
    {
      "cell_type": "markdown",
      "metadata": {
        "id": "QHOCvVw-R9gs"
      },
      "source": [
        "5. Remova duplicatas de ambas as listas abaixo (utilize `set` para essa atividade):\n",
        "\n",
        "`lista_1 = [1, 1, 3, 5, 7, 7, 8, 10, 10]`\n",
        "\n",
        "`lista_2 = [\"zebra\",\"3\",\"zebra\",\"escola\",\"0\",\"brasil\", \"0\", \"brasil\", \"brasil\"]`"
      ]
    },
    {
      "cell_type": "code",
      "metadata": {
        "id": "-gBGYVO1ShJm"
      },
      "source": [
        ""
      ],
      "execution_count": null,
      "outputs": []
    },
    {
      "cell_type": "markdown",
      "metadata": {
        "id": "oPXi0myoZ83z"
      },
      "source": [
        "6. Escreva um programa que:\n",
        "* Pergunte ao usuário que operação ele quer realizar:\n",
        "1. Soma;\n",
        "2. Subtração;\n",
        "3. Multiplicação;\n",
        "4. Exponenciação;\n",
        "5. Divisão;\n",
        "6. Divisão Inteira;\n",
        "7. Módulo de Divisão;\n",
        "* O usuário deverá escrever o número relativo à operação que ele quer realizar.\n",
        "* Após o usuário escolher um número, peça para escrever o `valor_1` a ser calculado.\n",
        "* Após essa etapa, peça o `valor_2` ao usuário.\n",
        "* Execute a operação escolhida e imprima: `O resultado do calculo entre <valor_1> e <valor_2> é: <resposta>.` Os valores entre < > devem ser os valores inseridos/calculados.\n",
        "* Se o usuário escolher um valor fora dos descritos, finalizar a execução com a mensagem: `Operação não disponível.`\n",
        "\n",
        "DICAS: Faça apenas um print para as operações:\n",
        "\n",
        "\n",
        "\n",
        "```\n",
        "print(\"Operações disponíveis: \\n \\\n",
        "  1. Soma;\\n \\\n",
        "  2. Subtração;\\n \\\n",
        "  3. Multiplicação;\\n )\n",
        "```\n",
        "Utilizamos o escape `\\n` para pular linha e somente a `\\` para indicar ao intepretador que o texto continua na linha seguinte.\n"
      ]
    },
    {
      "cell_type": "code",
      "metadata": {
        "id": "awVNMEriZ8Qz"
      },
      "source": [
        ""
      ],
      "execution_count": null,
      "outputs": []
    },
    {
      "cell_type": "markdown",
      "metadata": {
        "id": "n_DrN5GUJ17R"
      },
      "source": [
        "## Respostas dos Exercícios"
      ]
    },
    {
      "cell_type": "markdown",
      "metadata": {
        "id": "5ZxbT4mkJ5LV"
      },
      "source": [
        "Questão 1."
      ]
    },
    {
      "cell_type": "code",
      "metadata": {
        "id": "S76awsQLJ_b8"
      },
      "source": [
        "nome = input(\"Escreva um nome: \\t\")\n",
        "if \"p\" in nome:\n",
        "  print(f\"Existe a letra 'p' em {nome}\")\n",
        "else:\n",
        "  print(f\"NÃO existe a letra 'p' em {nome}\")"
      ],
      "execution_count": null,
      "outputs": []
    },
    {
      "cell_type": "markdown",
      "metadata": {
        "id": "gICDLTSmQCxZ"
      },
      "source": [
        "Questão 2."
      ]
    },
    {
      "cell_type": "code",
      "metadata": {
        "id": "Q8AuWgX9NIA0"
      },
      "source": [
        "nome = input(\"Escreva um nome: \\t\")\n",
        "\n",
        "if \"p\" in nome:\n",
        "  print(f\"Existe a letra 'p' em {nome}!\")\n",
        "elif \"e\" in nome:\n",
        "  print(f\"Existe a letra 'e' em {nome}!\")\n",
        "else:\n",
        "  print(f\"Nenhuma condição foi verdade com: {nome}!\")"
      ],
      "execution_count": null,
      "outputs": []
    },
    {
      "cell_type": "markdown",
      "metadata": {
        "id": "lRv-Aqu1RGQS"
      },
      "source": [
        "Questão 3."
      ]
    },
    {
      "cell_type": "code",
      "metadata": {
        "id": "Ku6WHiVKRIOQ"
      },
      "source": [
        "lista = [10, 34, 87, 1, 9, 65, 13]\n",
        "\n",
        "#crescente\n",
        "lista.sort()\n",
        "print(lista)\n",
        "\n",
        "#decrescente\n",
        "lista.sort(reverse=True)\n",
        "print(lista)"
      ],
      "execution_count": null,
      "outputs": []
    },
    {
      "cell_type": "markdown",
      "metadata": {
        "id": "EooBpM6ER595"
      },
      "source": [
        "Questão 4."
      ]
    },
    {
      "cell_type": "code",
      "metadata": {
        "id": "QK8RzmeoR7bY"
      },
      "source": [
        "lista = [\"abacaxi\",\"3\",\"zebra\",\"escola\",\"0\",\"brasil\"]\n",
        "\n",
        "#crescente\n",
        "lista.sort()\n",
        "print(lista)\n",
        "\n",
        "#decrescente\n",
        "lista.sort(reverse=True)\n",
        "print(lista)"
      ],
      "execution_count": null,
      "outputs": []
    },
    {
      "cell_type": "markdown",
      "metadata": {
        "id": "ZQa6n41gTmCE"
      },
      "source": [
        "Questão 5."
      ]
    },
    {
      "cell_type": "code",
      "metadata": {
        "id": "qzBbKEFATnuq"
      },
      "source": [
        "lista_1 = [1, 1, 3, 5, 7, 7, 8, 10, 10]\n",
        "\n",
        "lista_2 = [\"zebra\",\"3\",\"zebra\",\"escola\",\"0\",\"brasil\", \"0\", \"brasil\", \"brasil\"]\n",
        "\n",
        "trans_lista = set(lista_1)\n",
        "lista_1 = list(trans_lista)\n",
        "print(lista_1)\n",
        "\n",
        "trans_lista = set(lista_2)\n",
        "lista_2 = list(trans_lista)\n",
        "print(lista_2)"
      ],
      "execution_count": null,
      "outputs": []
    },
    {
      "cell_type": "markdown",
      "metadata": {
        "id": "gpFiwan7f6Cg"
      },
      "source": [
        "Questão 6.\n"
      ]
    },
    {
      "cell_type": "code",
      "metadata": {
        "id": "IPNhQO8mf7w1"
      },
      "source": [
        "print(\"Operações disponíveis: \\n \\\n",
        "  1. Soma;\\n \\\n",
        "  2. Subtração;\\n \\\n",
        "  3. Multiplicação;\\n \\\n",
        "  4. Exponenciação;\\n \\\n",
        "  5. Divisão;\\n \\\n",
        "  6. Divisão Inteira;\\n \\\n",
        "  7. Módulo de Divisão;\\n\")\n",
        "\n",
        "operacao = float(input(\"Escreva o número da operação: \\t\"))\n",
        "valor_1 = float(input(\"Escreva o primeiro valor: \\t\"))\n",
        "valor_2 = float(input(\"Escreva o segundo valor: \\t\"))\n",
        "if operacao == 1:\n",
        "  print(f\"O resultado do calculo entre {valor_1} e {valor_2} é: {valor_1 + valor_2}.\")\n",
        "elif operacao == 2:\n",
        "  print(f\"O resultado do calculo entre {valor_1} e {valor_2} é: {valor_1 - valor_2}.\")\n",
        "elif operacao == 3:\n",
        "  print(f\"O resultado do calculo entre {valor_1} e {valor_2} é: {valor_1 * valor_2}.\")\n",
        "elif operacao == 4:\n",
        "  print(f\"O resultado do calculo entre {valor_1} e {valor_2} é: {valor_1 ** valor_2}.\")\n",
        "elif operacao == 5:\n",
        "  print(f\"O resultado do calculo entre {valor_1} e {valor_2} é: {valor_1 / valor_2}.\")\n",
        "elif operacao == 6:\n",
        "  print(f\"O resultado do calculo entre {valor_1} e {valor_2} é: {valor_1 // valor_2}.\")\n",
        "elif operacao == 7:\n",
        "  print(f\"O resultado do calculo entre {valor_1} e {valor_2} é: {valor_1 % valor_2}.\")\n",
        "else:\n",
        "  print(\"Operação não disponível.\")\n",
        "\n",
        "\n",
        "#Leia abaixo.\n",
        "'''\n",
        "Essa é a solução seguindo a descrição passo a passo. Mas percebem que se o valor \n",
        "da operação for fora de nosso índice só avisamos após o usuário inserir os dois \n",
        "valores?\n",
        "\n",
        "E nos casos de divisão inteira e módulo, encontraram algum problema?\n",
        "\n",
        "Então desafio: Como melhorar essa solução?\n",
        "\n",
        "'''"
      ],
      "execution_count": null,
      "outputs": []
    }
  ]
}