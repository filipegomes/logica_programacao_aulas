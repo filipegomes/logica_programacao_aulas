{
  "nbformat": 4,
  "nbformat_minor": 0,
  "metadata": {
    "colab": {
      "name": "Notebook-3_logica-programacao-Python.ipynb",
      "provenance": [],
      "collapsed_sections": [
        "svwx0buEnZPJ",
        "1gINoGGtmQqy",
        "X-l2CnXYe-Uy",
        "gE4wBl8BfDGk",
        "9DQMc9a2uqz8",
        "SRqDNyBPHt5d",
        "g27WbHEf9HPX"
      ],
      "authorship_tag": "ABX9TyOWdnLKDZorpM2zprW960Oz",
      "include_colab_link": true
    },
    "kernelspec": {
      "name": "python3",
      "display_name": "Python 3"
    },
    "language_info": {
      "name": "python"
    }
  },
  "cells": [
    {
      "cell_type": "markdown",
      "metadata": {
        "id": "view-in-github",
        "colab_type": "text"
      },
      "source": [
        "<a href=\"https://colab.research.google.com/github/filipegomes/logica_programacao_aulas/blob/main/notebooks/Notebook_3_logica_programacao_Python.ipynb\" target=\"_parent\"><img src=\"https://colab.research.google.com/assets/colab-badge.svg\" alt=\"Open In Colab\"/></a>"
      ]
    },
    {
      "cell_type": "markdown",
      "metadata": {
        "id": "Dz9jjZkF2HQU"
      },
      "source": [
        "# Aula 3: Introdução à Linguagem de Programação **Python**\n",
        "\n",
        "\n",
        "---\n",
        "\n",
        "###Bem vindo ao Google Colaboratory novamente!\n",
        "\n",
        "Assim como na aula 1 e 2, utilizaremos esse notebook para ver na prática como o Python implementa suas **funções e expressões.**\n",
        "\n",
        "\n"
      ]
    },
    {
      "cell_type": "markdown",
      "metadata": {
        "id": "fz7ZkbKV8G-J"
      },
      "source": [
        "Na última aula aprendemos sobre as **Coleções**, suas funções embutidas e como utilizá-las. \n",
        "\n",
        "Nessa aula iremos falar sobre Estruturas de Repetição em Python. Em Python temos duas estruturas básicas: `WHILE` e `FOR`.\n",
        "\n",
        "Cada um tem suas particularidades, aplicações e como devem ser utilizadas."
      ]
    },
    {
      "cell_type": "markdown",
      "metadata": {
        "id": "GvRQADSYUsCz"
      },
      "source": [
        "## Input e Print: apenas para lembrar"
      ]
    },
    {
      "cell_type": "markdown",
      "metadata": {
        "id": "svwx0buEnZPJ"
      },
      "source": [
        "* Você sabe como receber valores do teclado do usuário? \n",
        "\n",
        "Em python é bem simples. Utilizamos a função `input()` para isso. O input precisa ser atribuído à uma variável.\n",
        "\n",
        "Exemplo: \n",
        "\n",
        "`valor = input(\"Escreva algo no teclado!\")`\n",
        "\n",
        "Observe que o texto que aparecerá antes do usuário dar alguma entrada precisa estar entre aspas, dentro dos parênteses.\n",
        "\n"
      ]
    },
    {
      "cell_type": "code",
      "metadata": {
        "id": "4X5aGWRHG6GQ",
        "colab": {
          "base_uri": "https://localhost:8080/"
        },
        "outputId": "cca926a8-0318-4b10-e57c-eb2af5e8804f"
      },
      "source": [
        "valor = input(\"Escreva algo: \")\n",
        "print(type(valor))"
      ],
      "execution_count": null,
      "outputs": [
        {
          "output_type": "stream",
          "text": [
            "Escreva algo: 24\n",
            "<class 'str'>\n"
          ],
          "name": "stdout"
        }
      ]
    },
    {
      "cell_type": "markdown",
      "metadata": {
        "id": "Pia7kLgl4idm"
      },
      "source": [
        "IMPORTANTE! Se precisarmos de uma entrada de teclado em um outro formato que não seja `string`, precisamos converter o valor para o tipo que iremos utilizar. Para isso, basta utilizar os construtores que já conhecemos: `int()`, `float()`, `bool()`...\n",
        "\n",
        "Exemplo:\n",
        "\n",
        "```\n",
        "x = float(input(\"Escreva um valor para usarmos como Float! \\n\"))\n",
        "\n",
        "print(f\"O valor {x} agora é do tipo {type(x)}\")\n",
        "```\n",
        "\n"
      ]
    },
    {
      "cell_type": "code",
      "metadata": {
        "id": "liGIv-IA5WPC"
      },
      "source": [
        "valor = float(input(\"escreva um numero: \"))\n",
        "print(f\"O valor {valor} agora é do tipo {type(valor)}\")"
      ],
      "execution_count": null,
      "outputs": []
    },
    {
      "cell_type": "markdown",
      "metadata": {
        "id": "4Dm9ps696bRj"
      },
      "source": [
        "Abaixo, os exemplos de `print` que já abordamos.\n",
        "\n",
        "\n",
        "1. `print(\"Ola \"+nome)`\n",
        ">Esse tipo de impressão só pode ser utilizada quando a variável é do tipo String, pois realiza uma concatenação.\n",
        "\n",
        "2. `print(\"Ola {}\".format(nome))`\n",
        "\n",
        "3. `print(\"Ola\",nome)`\n",
        "\n",
        "4. `print(\"Ola %s\" % (nome))`\n",
        "\n",
        "5. `print(f\"Ola {nome}\")`\n",
        ">Vamos utilizar esse formato com mais frequência.\n",
        "\n",
        "Na célula abaixo, exemplos de aplicação dos tipos de `print` acima.\n",
        "\n",
        "\n",
        "\n",
        "\n",
        "\n",
        "\n",
        "\n",
        "\n",
        "\n",
        "\n",
        "\n"
      ]
    },
    {
      "cell_type": "code",
      "metadata": {
        "id": "wKgG1RJPArIm",
        "colab": {
          "base_uri": "https://localhost:8080/"
        },
        "outputId": "84d574d0-991e-40be-b738-2354d6f83d0d"
      },
      "source": [
        "nome = \"meu nome\"\n",
        "nome1 = 1\n",
        "#print(\"Ola \"+nome+\",tudo bem?\"+nome1)\n",
        "print(\"Ola {}\".format(nome))\n",
        "print(\"Ola\",nome)\n",
        "print(\"Ola %s\" % (nome))\n",
        "print(f\"Ola {nome}, tudo bem? {nome1}\")"
      ],
      "execution_count": null,
      "outputs": [
        {
          "output_type": "stream",
          "text": [
            "Ola meu nome\n",
            "Ola meu nome\n",
            "Ola meu nome\n",
            "Ola meu nome, tudo bem? 1\n"
          ],
          "name": "stdout"
        }
      ]
    },
    {
      "cell_type": "markdown",
      "metadata": {
        "id": "Ch_uEdoMMQBU"
      },
      "source": [
        "## Estruturas de Repetição\n"
      ]
    },
    {
      "cell_type": "markdown",
      "metadata": {
        "id": "2HcMGXU7Xk_w"
      },
      "source": [
        "#### Operadores Lógicos e Relacionais:\n",
        "Aqui está a tabela para ajudá-los com a referência dos operadores lógicos que também podemos utilizar em estruturas de repetição.\n",
        "\n",
        "\n",
        "<img width= \"\" src = 'https://raw.githubusercontent.com/filipegomes/logica_programacao_aulas/aaf13241fd3af424883769a2e25d4d20fb5a4759/images/logicos.png'> "
      ]
    },
    {
      "cell_type": "markdown",
      "metadata": {
        "id": "1BsF785qbfRX"
      },
      "source": [
        "Todas as vezes que eu utilizar um operador condicional (com exceção de `and`, `or`, `not`, e `in`) eu terei uma resposta booleana, `True` ou `False`."
      ]
    },
    {
      "cell_type": "code",
      "metadata": {
        "id": "NJn9zsFObe_3"
      },
      "source": [
        "if \"p\" in \"papel\":\n",
        "  print(\"a está em casa!\")"
      ],
      "execution_count": null,
      "outputs": []
    },
    {
      "cell_type": "markdown",
      "metadata": {
        "id": "qj0LybZMcfIT"
      },
      "source": [
        "#### Estrutura de Repetição `while`:\n",
        "\n",
        "Essa estrutura de repetição age como uma estrutura `if`: é preciso satisfazer uma condição para o fazer funcionar e a condição precisa ser falsa para poder finalizá-lo."
      ]
    },
    {
      "cell_type": "markdown",
      "metadata": {
        "id": "PlohdZLUc1Bo"
      },
      "source": [
        "Sintaxe de um `while` simples:\n",
        "\n",
        "Basicamente precisamos da palavra-chave `while` e uma condição que deve ser satisfeita, seja através de um contador, seja através de uma função.\n",
        "\n",
        "---\n",
        "\n",
        "**MUITO CUIDADO!!!**\n",
        "**Laços `while` podem causar loops infinitos que podem causar travamentos! Sempre preste atenção se a condição do `while` será falsa em algum momento, SENÃO VOCÊ ENTRARÁ NO LIMBO DO LOOP INFINITO!!!**\n",
        " "
      ]
    },
    {
      "cell_type": "markdown",
      "metadata": {
        "id": "dPVC4jDpdCIS"
      },
      "source": [
        "\n",
        "\n",
        "```\n",
        "contador = 0\n",
        "while contador < 5:\n",
        "  print(f\"Contador em {contador}\")\n",
        "  contador += 1\n",
        "```\n",
        "\n"
      ]
    },
    {
      "cell_type": "code",
      "metadata": {
        "id": "bIMfNBbc8n0X"
      },
      "source": [
        ""
      ],
      "execution_count": null,
      "outputs": []
    },
    {
      "cell_type": "markdown",
      "metadata": {
        "id": "oPCJbedTc6O6"
      },
      "source": [
        "\n",
        "Utilizando o `ELSE`:\n",
        "\n",
        "Assim como em estruturas `if`, no `while` também é possível se utilizar um else para executar algo caso a condição principal seja falsa ou quando esta se tornar falsa."
      ]
    },
    {
      "cell_type": "code",
      "metadata": {
        "id": "upW5D0CY9zfz"
      },
      "source": [
        ""
      ],
      "execution_count": null,
      "outputs": []
    },
    {
      "cell_type": "markdown",
      "metadata": {
        "id": "GtHl4yPN8GST"
      },
      "source": [
        "Dentro de um `while` também podemos colocar mais de uma condição, com o `and` e `or`, quando quisermos que duas ou mais condições sejam testadas na mesma expressão.\n",
        "\n",
        "Com `and`:\n",
        "\n",
        "\n",
        "```\n",
        "a = 5\n",
        "b = 10\n",
        "count = 0\n",
        "while a < 10 and b > 0:\n",
        "  print(f\"a: {a} \\t b: {b}\")\n",
        "  a+=1\n",
        "  b-=1\n",
        "\n",
        "```\n",
        "\n"
      ]
    },
    {
      "cell_type": "code",
      "metadata": {
        "id": "u-hv0QZx8x9h"
      },
      "source": [
        ""
      ],
      "execution_count": null,
      "outputs": []
    },
    {
      "cell_type": "markdown",
      "metadata": {
        "id": "nJmLXqIOe12u"
      },
      "source": [
        "Com `or`:\n",
        "\n",
        "\n",
        "```\n",
        "a = 5\n",
        "b = 10\n",
        "count = 0\n",
        "while a < 10 or b > 0:\n",
        "  print(f\"a: {a} \\t b: {b}\")\n",
        "  a+=1\n",
        "  b-=1\n",
        "\n",
        "```\n"
      ]
    },
    {
      "cell_type": "code",
      "metadata": {
        "id": "tyxQzdlXYze1"
      },
      "source": [
        ""
      ],
      "execution_count": null,
      "outputs": []
    },
    {
      "cell_type": "markdown",
      "metadata": {
        "id": "mUKYo9aUeyt_"
      },
      "source": [
        "##### Statement `break`:\n",
        "\n",
        "Utilizamos o `break` quando queremos que, caso uma determinada condição aconteça, toda a estrutura de repetição seja interrompida.\n",
        "\n",
        "\n",
        "\n",
        "```\n",
        "contador = 0\n",
        "while contador < 5:\n",
        "\tprint(contador)\n",
        "\tif contador == 3:\n",
        "\t\tbreak\n",
        "\tcontador += 1\n",
        "```\n",
        "\n"
      ]
    },
    {
      "cell_type": "code",
      "metadata": {
        "id": "wWldFTkxg94v"
      },
      "source": [
        ""
      ],
      "execution_count": null,
      "outputs": []
    },
    {
      "cell_type": "markdown",
      "metadata": {
        "id": "OWSDTZMKg_O2"
      },
      "source": [
        "##### Statement `continue`: \n",
        "\n",
        "Usamos o continue quando queremos interromper uma iteração específica e iniciar a próxima.\n",
        "\n",
        "\n",
        "\n",
        "```\n",
        "contador = 0\n",
        "while contador < 5:\n",
        "  contador += 1\n",
        "  if contador == 3:\n",
        "    continue\n",
        "  print(contador)\n",
        "```\n",
        "\n"
      ]
    },
    {
      "cell_type": "markdown",
      "metadata": {
        "id": "gkND7XbNiHVu"
      },
      "source": [
        "##### Vamos praticar?\n",
        "\n",
        "1. Faça uma contagem regressiva de 0 até 10."
      ]
    },
    {
      "cell_type": "code",
      "metadata": {
        "id": "01Qf5qwxiQeF"
      },
      "source": [
        ""
      ],
      "execution_count": null,
      "outputs": []
    },
    {
      "cell_type": "markdown",
      "metadata": {
        "id": "NbnrWPP3iP54"
      },
      "source": [
        "2. Faça um programa que peça o nome de um usuário. Enquanto nome dele não estiver correto, repita a pergunta. Quando for correto imprima: `\"Ola, nome!\"`\n",
        "\n",
        "\n",
        "\n",
        "```\n",
        "nome = \"\"\n",
        "while nome != \"nome\":\n",
        "    nome = input(\" \")\n",
        "    if nome != \"nome\":\n",
        "      print(\"Seu nome está incorreto!!!!\")\n",
        "else:\n",
        "  print(\"Finalmente, o nome certo!\")\n",
        "```\n",
        "\n"
      ]
    },
    {
      "cell_type": "markdown",
      "metadata": {
        "id": "-M4Dqly7knFW"
      },
      "source": [
        "3. Dá para fazer a mesma coisa com uma lista de nomes?\n",
        "\n",
        "\n",
        "\n",
        "```\n",
        "lista = [\"nome1\", \"nome2\", \"nome3\"]\n",
        "nome = \"\"\n",
        "while nome not in lista:\n",
        "    nome = input(\"Escreva o nome: \")\n",
        "    if nome not in lista:\n",
        "      print(f\"Não te conheço {nome}!!!!\")\n",
        "else:\n",
        "  print(f\"Olá {nome} você eu conheço!\")\n",
        "```\n",
        "\n"
      ]
    },
    {
      "cell_type": "code",
      "metadata": {
        "id": "viWSMWJdhQgp"
      },
      "source": [
        ""
      ],
      "execution_count": null,
      "outputs": []
    },
    {
      "cell_type": "markdown",
      "metadata": {
        "id": "-ODULpzHk-TY"
      },
      "source": [
        "#### Estrutura de Repetição `for`:\n",
        "\n",
        "Essa estrura de repetição é uma das mais utilizadas em Python. Porém ela não funciona exatamente como em outras linguagens. O for em python é uma função de iteração, que precisa de um objeto iterável para que possa \"caminhar\" pelos seus itens."
      ]
    },
    {
      "cell_type": "markdown",
      "metadata": {
        "id": "n7ZIHOIzlh5j"
      },
      "source": [
        "Sintaxe de um `for` básico:\n",
        "\n",
        "A variável que será utilizada para armazenar o índice do objeto na sua respectiva iteração ou o próprio objeto não precisa ser declarado de antemão.\n",
        "\n",
        "```\n",
        "for n in range(10):\n",
        "  print(n)\n",
        "```\n",
        "\n"
      ]
    },
    {
      "cell_type": "markdown",
      "metadata": {
        "id": "iDFoSI_iwWNX"
      },
      "source": [
        "Utilizando o `ELSE`:\n",
        "\n",
        "Também é possível se utilizar um `else` em estruturas `for`. Nesse caso, ele apenas será executado quando a estrutura for finalizada.\n"
      ]
    },
    {
      "cell_type": "code",
      "metadata": {
        "id": "SLGMcq9PwNLC"
      },
      "source": [
        ""
      ],
      "execution_count": null,
      "outputs": []
    },
    {
      "cell_type": "markdown",
      "metadata": {
        "id": "1gINoGGtmQqy"
      },
      "source": [
        "##### **Um pequeno adendo: a função `range()`**\n",
        "\n",
        "Nós utilizamos essa função bastante, então é interessante nos aprofundarmos um pouco nela. O `range()` retorna uma sequência de números, iniciando em 0 por padrão e incrementando por 1 (por padrão) e finaliza no número especificado. O número indicado como final não é considerado (até menor que o número final).\n",
        "\n",
        "A incrementação ou passo pode ser customizada, assim como o número de início.\n",
        "\n",
        "A função por padrão, se indicado o valor final, é basicamente essa: `range(0,10,1)`, onde o primeiro valor é o início (por padrão 0), o segundo valor é o informado como final e o terceiro valor é o incremento ou passo."
      ]
    },
    {
      "cell_type": "code",
      "metadata": {
        "id": "JFNlm78Oe93Q"
      },
      "source": [
        ""
      ],
      "execution_count": null,
      "outputs": []
    },
    {
      "cell_type": "code",
      "metadata": {
        "id": "Ak4zMWOYoRNa"
      },
      "source": [
        ""
      ],
      "execution_count": null,
      "outputs": []
    },
    {
      "cell_type": "markdown",
      "metadata": {
        "id": "X-l2CnXYe-Uy"
      },
      "source": [
        "##### Sintaxe de `for` com Iteráveis:\n",
        "\n",
        "1. Com strings:\n",
        "\n",
        "```\n",
        "for i in \"palavra\":\n",
        "  print(i)\n",
        "```\n",
        "\n",
        "2. Com listas:\n",
        "\n",
        "```\n",
        "lista = [\"valor\", 10, \"valor2\", 5.5]\n",
        "for i in lista:\n",
        "  print(i)\n",
        "```\n",
        "\n",
        "3. Com tuplas:\n",
        "\n",
        "```\n",
        "tupla = (\"valor\", 10, \"valor2\", 5.5)\n",
        "for i in tupla:\n",
        "  print(i)\n",
        "```\n"
      ]
    },
    {
      "cell_type": "code",
      "metadata": {
        "id": "VUfsFDGI4VQ3"
      },
      "source": [
        ""
      ],
      "execution_count": null,
      "outputs": []
    },
    {
      "cell_type": "markdown",
      "metadata": {
        "id": "Zb4ymSAjrhag"
      },
      "source": [
        "* Utilizando o `enumerate()` para capturar o índice de iteráveis\n",
        "\n",
        "Sintaxe:\n",
        "\n",
        "```\n",
        "for index, n in enumerate(iterável):\n",
        "  print(f\"Indice: {index} \\t Valor: {n}\")\n",
        "```\n",
        "\n"
      ]
    },
    {
      "cell_type": "code",
      "metadata": {
        "id": "tMEl8CN3sKfL"
      },
      "source": [
        ""
      ],
      "execution_count": null,
      "outputs": []
    },
    {
      "cell_type": "code",
      "metadata": {
        "id": "xUmVKA24tjmC"
      },
      "source": [
        ""
      ],
      "execution_count": null,
      "outputs": []
    },
    {
      "cell_type": "markdown",
      "metadata": {
        "id": "gE4wBl8BfDGk"
      },
      "source": [
        "##### Statement `break`:\n",
        "\n",
        "Utilizamos o `break` quando queremos que, caso uma determinada condição aconteça, toda a estrutura de repetição seja interrompida.\n",
        "\n",
        "```\n",
        "lista = list(range(10))\n",
        "for n in lista:\n",
        "  print(n)\n",
        "  if n == 6:\n",
        "    break\n",
        "```\n",
        "\n"
      ]
    },
    {
      "cell_type": "code",
      "metadata": {
        "id": "m9PDGq9RwFJF"
      },
      "source": [
        ""
      ],
      "execution_count": null,
      "outputs": []
    },
    {
      "cell_type": "markdown",
      "metadata": {
        "id": "9DQMc9a2uqz8"
      },
      "source": [
        "##### Statement `continue`: \n",
        "\n",
        "Usamos o `continue` quando queremos interromper uma iteração específica e iniciar a próxima.\n",
        "\n",
        "\n",
        "\n",
        "```\n",
        "lista = list(range(10))\n",
        "for n in lista:\n",
        "  if n == 6:\n",
        "    continue\n",
        "  print(n)\n",
        "```\n",
        "\n"
      ]
    },
    {
      "cell_type": "code",
      "metadata": {
        "id": "fkRc-YeewGBx"
      },
      "source": [
        ""
      ],
      "execution_count": null,
      "outputs": []
    },
    {
      "cell_type": "markdown",
      "metadata": {
        "id": "KkAEQASNDEif"
      },
      "source": [
        "##### Nested Loops, ou Loops Aninhados\n",
        "\n",
        "Loops aninhados são quando temos loops dentro de outros loops. \n",
        "\n",
        "\n",
        "\n",
        "```\n",
        "for x in range(5, 0,-1):\n",
        "  for y in range(0, 5, 1):\n",
        "    print(f\"Primeiro loop: {x} \\t Segundo loop: {y}\")\n",
        "```\n",
        "\n"
      ]
    },
    {
      "cell_type": "code",
      "metadata": {
        "id": "JrN9x9fHx6pY"
      },
      "source": [
        ""
      ],
      "execution_count": null,
      "outputs": []
    },
    {
      "cell_type": "markdown",
      "metadata": {
        "id": "xrmFBY-74HTV"
      },
      "source": [
        "##### Vamos praticar um pouco?\n",
        "\n",
        "1. Faça uma contagem regressiva de 10 até 0 com `for`. Dica: use o range."
      ]
    },
    {
      "cell_type": "code",
      "metadata": {
        "id": "4KtSnS2w49DR"
      },
      "source": [
        ""
      ],
      "execution_count": null,
      "outputs": []
    },
    {
      "cell_type": "markdown",
      "metadata": {
        "id": "N0hANbgd5Qkv"
      },
      "source": [
        "2. Escreva um programa que calcule a exponenciação de um número 10 vezes. Imprima também o expoente.\n"
      ]
    },
    {
      "cell_type": "code",
      "metadata": {
        "id": "bd16utdL6GuI"
      },
      "source": [
        ""
      ],
      "execution_count": null,
      "outputs": []
    },
    {
      "cell_type": "markdown",
      "metadata": {
        "id": "hiC1rYiuzAgd"
      },
      "source": [
        "#### Funções em Python\n",
        "\n",
        "Funções em Python podem ser bem simples, caso estejamos fazendo coisas simples, ou mais complicadas. Nessa aula, vamos ver o básico do básico em funções. Como declarar e como usar. "
      ]
    },
    {
      "cell_type": "markdown",
      "metadata": {
        "id": "CmsMBWMXzZP2"
      },
      "source": [
        "Como declarar uma função?\n",
        "\n",
        "\n",
        "\n",
        "```\n",
        "def funcao():\n",
        "  print(\"Eu sou uma função!\")\n",
        "\n",
        "#Chamando:\n",
        "funcao()\n",
        "```\n",
        "\n"
      ]
    },
    {
      "cell_type": "code",
      "metadata": {
        "id": "UlEMWzv80BJz"
      },
      "source": [
        ""
      ],
      "execution_count": null,
      "outputs": []
    },
    {
      "cell_type": "code",
      "metadata": {
        "id": "HIxoKrIO0b_7"
      },
      "source": [
        ""
      ],
      "execution_count": null,
      "outputs": []
    },
    {
      "cell_type": "markdown",
      "metadata": {
        "id": "WCggj1U30Zbe"
      },
      "source": [
        "Utilizando argumentos ou parâmetros em funções:\n",
        "\n",
        "* **Importante!:** Quando existirem parâmetros, eles devem seguir a ordem definida no escopo da função. Em caso da não existência de parâmetros com valores padrão, é preciso que a quantidade de parâmetros enviados na chamada da função sejam a mesma do escopo da função.\n",
        "\n",
        "```\n",
        "def minha_funcao(p_nome, s_nome):\n",
        "  print(f\"{s_nome} {p_nome}\")\n",
        "\n",
        "minha_funcao(\"Filipe\",\"Gomes\")\n",
        "```\n",
        "\n",
        "\n",
        "\n"
      ]
    },
    {
      "cell_type": "code",
      "metadata": {
        "id": "KgnreqI83n4c"
      },
      "source": [
        ""
      ],
      "execution_count": null,
      "outputs": []
    },
    {
      "cell_type": "markdown",
      "metadata": {
        "id": "rnlQQr9a2ma2"
      },
      "source": [
        "Digamos que eu queira fazer algo parecido com o exemplo anterior, mas recebendo apenas uma string, onde eu deva informar nome e sobrenome e retornar de forma `SOBRENOME nome`.\n",
        "```\n",
        "def minha_funcao(nome):\n",
        "  nome = nome.split()\n",
        "  print(f\"{nome[1].upper()} {nome[0].lower()}\")\n",
        "\n",
        "minha_funcao(\"Filipe Gomes\")\n",
        "```"
      ]
    },
    {
      "cell_type": "code",
      "metadata": {
        "id": "-V0Q16Ol39nT"
      },
      "source": [
        ""
      ],
      "execution_count": null,
      "outputs": []
    },
    {
      "cell_type": "markdown",
      "metadata": {
        "id": "VBg958-c4Ei1"
      },
      "source": [
        "Retornando valores e resultados:\n",
        "\n",
        "Para retornar valores e resultados basta se utilizar a palavra reservada `return` seguida do que se quer retornar.\n",
        "\n",
        "\n",
        "\n",
        "```\n",
        "def minha_funcao(num1, num2):\n",
        "  soma = num1 + num2\n",
        "  return soma\n",
        "```\n",
        "Ou:\n",
        "\n",
        "\n",
        "\n",
        "```\n",
        "def minha_funcao(num1, num2):\n",
        "  return num1 + num2\n",
        "```\n",
        "\n",
        "\n"
      ]
    },
    {
      "cell_type": "code",
      "metadata": {
        "id": "2Y6DuQIA8haz"
      },
      "source": [
        ""
      ],
      "execution_count": null,
      "outputs": []
    },
    {
      "cell_type": "code",
      "metadata": {
        "id": "r3-tog8a9GLH"
      },
      "source": [
        ""
      ],
      "execution_count": null,
      "outputs": []
    },
    {
      "cell_type": "markdown",
      "metadata": {
        "id": "SRqDNyBPHt5d"
      },
      "source": [
        "#### Como capturar erros?\n",
        "\n",
        "O `try` `except` tenta executar um bloco de código dentro de `try` e se der algum tipo de erro catastrófico, executa o que tem dentro de `except`. Não iremos nos aprofundar muito nessa função, apenas quero que vejam como lidar com erros em python.\n",
        "\n",
        "\n",
        "\n",
        "```\n",
        "try:\n",
        "  float(\"valor\")\n",
        "except:\n",
        "  print(\"Não é possível transformar uma string de caracteres em float!\")\n",
        "```\n",
        "\n"
      ]
    },
    {
      "cell_type": "code",
      "metadata": {
        "id": "VAF9AfgAI2a5"
      },
      "source": [
        ""
      ],
      "execution_count": null,
      "outputs": []
    },
    {
      "cell_type": "markdown",
      "metadata": {
        "id": "g27WbHEf9HPX"
      },
      "source": [
        "#### Lembram do exercício da calculadora? Vamos fazê-la com funções?\n",
        "\n",
        "* Passos:\n",
        "1. Criar uma lista com as opções;\n",
        "> Soma;\n",
        "Subtração;\n",
        "Multiplicação;\n",
        "Exponenciação;\n",
        "Divisão;\n",
        "Divisão Inteira;\n",
        "Módulo de Divisão;\n",
        "\n",
        "2. Criar uma função para imprimir as opções da lista;\n",
        "3. Fazer uma função para cada cálculo que já imprima na tela o resultado.\n",
        "4. Fazer uma função com IF que receba o número da operação, o valor 1 e o valor 2 e escolha a operação a ser executada.\n",
        "5. Crie uma estrutura while.\n",
        "6. Chame a função de impressão de menu.\n",
        "7. Peça ao usuário o nome do cálculo que ele quer executar.\n",
        "8. Se o usuário quiser sair, crie uma saída com o comando `break`.\n",
        "9. Peça ao usuário valores 1 e 2.\n",
        "10. Chame a função que executa os cálculos de acordo com a operação escolhida.\n",
        "11. Feche o `while` com um `else` informando que a execução será finalizada. "
      ]
    },
    {
      "cell_type": "code",
      "metadata": {
        "id": "qIT7SfKqN5T7"
      },
      "source": [
        ""
      ],
      "execution_count": null,
      "outputs": []
    },
    {
      "cell_type": "code",
      "metadata": {
        "id": "zmweYO1SN6De"
      },
      "source": [
        ""
      ],
      "execution_count": null,
      "outputs": []
    }
  ]
}